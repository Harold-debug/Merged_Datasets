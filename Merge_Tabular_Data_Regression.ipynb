{
 "cells": [
  {
   "cell_type": "markdown",
   "metadata": {},
   "source": [
    "# Use case : Regression\n",
    "dataset 1 : used_cars →\n",
    " https://www.kaggle.com/datasets/taeefnajib/used-car-price-prediction-dataset\n",
    "\n",
    "dataset2 : dataset →"
   ]
  },
  {
   "cell_type": "markdown",
   "metadata": {},
   "source": [
    "\n",
    "\n",
    "> Importing libraries\n",
    "\n"
   ]
  },
  {
   "cell_type": "code",
   "execution_count": 4,
   "metadata": {},
   "outputs": [
    {
     "ename": "ModuleNotFoundError",
     "evalue": "No module named 'pandas'",
     "output_type": "error",
     "traceback": [
      "\u001b[0;31m---------------------------------------------------------------------------\u001b[0m",
      "\u001b[0;31mModuleNotFoundError\u001b[0m                       Traceback (most recent call last)",
      "Cell \u001b[0;32mIn[4], line 1\u001b[0m\n\u001b[0;32m----> 1\u001b[0m \u001b[38;5;28;01mimport\u001b[39;00m \u001b[38;5;21;01mpandas\u001b[39;00m \u001b[38;5;28;01mas\u001b[39;00m \u001b[38;5;21;01mpd\u001b[39;00m\n\u001b[1;32m      2\u001b[0m \u001b[38;5;28;01mimport\u001b[39;00m \u001b[38;5;21;01mseaborn\u001b[39;00m \u001b[38;5;28;01mas\u001b[39;00m \u001b[38;5;21;01msns\u001b[39;00m\n\u001b[1;32m      3\u001b[0m \u001b[38;5;28;01mimport\u001b[39;00m \u001b[38;5;21;01mnumpy\u001b[39;00m \u001b[38;5;28;01mas\u001b[39;00m \u001b[38;5;21;01mnp\u001b[39;00m\n",
      "\u001b[0;31mModuleNotFoundError\u001b[0m: No module named 'pandas'"
     ]
    }
   ],
   "source": [
    "import pandas as pd\n",
    "import seaborn as sns\n",
    "import numpy as np\n",
    "import matplotlib.pyplot as plt\n",
    "\n",
    "sns.set(style=\"whitegrid\")"
   ]
  },
  {
   "cell_type": "markdown",
   "metadata": {},
   "source": [
    "> importing datasets\n",
    "\n"
   ]
  },
  {
   "cell_type": "code",
   "execution_count": null,
   "metadata": {},
   "outputs": [],
   "source": [
    "#import of the dfs\n",
    "df1=pd.read_csv(\"used_cars.csv\")\n",
    "df2=pd.read_csv(\"dataset.csv\")"
   ]
  },
  {
   "cell_type": "markdown",
   "metadata": {},
   "source": [
    "> datasets overview"
   ]
  },
  {
   "cell_type": "code",
   "execution_count": null,
   "metadata": {},
   "outputs": [],
   "source": [
    "#a look into the dfs\n",
    "df1\n",
    "df2"
   ]
  },
  {
   "cell_type": "code",
   "execution_count": null,
   "metadata": {},
   "outputs": [],
   "source": [
    "print(df1.dtypes)\n",
    "print(df2.dtypes)\n",
    "\n",
    "#as we can see the common data from both dataframes has different types so we need to change them"
   ]
  },
  {
   "cell_type": "markdown",
   "metadata": {},
   "source": [
    "> # Regression _ Data Cleaning"
   ]
  },
  {
   "cell_type": "code",
   "execution_count": null,
   "metadata": {},
   "outputs": [],
   "source": [
    "#let's see if we have null values\n",
    "print(df1.isnull().sum())\n",
    "print(df2.isnull().sum())"
   ]
  },
  {
   "cell_type": "code",
   "execution_count": null,
   "metadata": {},
   "outputs": [],
   "source": [
    "dfC1 = df1.dropna()\n",
    "dfC2 = df2.dropna()"
   ]
  },
  {
   "cell_type": "code",
   "execution_count": null,
   "metadata": {},
   "outputs": [],
   "source": [
    "#let's see if we have null values\n",
    "print(dfC1.isnull().sum())\n",
    "print(dfC2.isnull().sum())\n",
    "#as we see we have no more null values"
   ]
  },
  {
   "cell_type": "code",
   "execution_count": null,
   "metadata": {},
   "outputs": [],
   "source": [
    "#milage had the miles symbol so we couldnt convert it to int so we deleted the symbol\n",
    "# Assuming dfC1 is your DataFrame\n",
    "\n",
    "# Update milage column\n",
    "dfC1.loc[:, 'milage'] = dfC1['milage'].str.replace('\\D', '', regex=True)\n",
    "\n",
    "# Update price column\n",
    "dfC1.loc[:, 'price'] = dfC1['price'].str.replace('\\D', '', regex=True)\n",
    "\n",
    "#an error will be shown cauz now i have already deleted in the dataframe"
   ]
  },
  {
   "cell_type": "code",
   "execution_count": null,
   "metadata": {},
   "outputs": [],
   "source": [
    "#now convert the columns\n",
    "\n",
    "# Assuming dfC1 is your DataFrame\n",
    "\n",
    "# Convert 'milage' column to int\n",
    "dfC1.loc[:, 'milage'] = dfC1['milage'].astype(int)\n",
    "\n",
    "# Convert 'price' column to int\n",
    "dfC1.loc[:, 'price'] = dfC1['price'].astype(int)\n",
    "\n",
    "# Convert 'accident' column to boolean\n",
    "dfC1.loc[:, 'accident'] = np.where(dfC1['accident'] != 'None reported', True, False)\n",
    "\n",
    "dfC1"
   ]
  },
  {
   "cell_type": "code",
   "execution_count": null,
   "metadata": {},
   "outputs": [],
   "source": [
    "#same process for the second df\n",
    "dfC2['Mileage'] = dfC2['Mileage'].str.replace('\\D', '', regex=True)\n",
    "dfC2['New_Price'] = dfC2['New_Price'].str.replace('\\D', '', regex=True)"
   ]
  },
  {
   "cell_type": "code",
   "execution_count": null,
   "metadata": {},
   "outputs": [],
   "source": [
    "dfC2[\"Mileage\"] = dfC2[\"Mileage\"].astype(int)\n",
    "dfC2[\"New_Price\"] = dfC2[\"New_Price\"].astype(int)\n",
    "#df2.dtypes\n",
    "#df2.head()"
   ]
  },
  {
   "cell_type": "code",
   "execution_count": null,
   "metadata": {},
   "outputs": [],
   "source": [
    "print(dfC1.dtypes)\n",
    "print(dfC2.dtypes)"
   ]
  },
  {
   "cell_type": "code",
   "execution_count": null,
   "metadata": {},
   "outputs": [],
   "source": [
    "#for the second df we need to multiply the price by 1000\n",
    "dfC2['Price'] = dfC2['Price']*1000"
   ]
  },
  {
   "cell_type": "code",
   "execution_count": null,
   "metadata": {},
   "outputs": [],
   "source": [
    "#now let's match the features for our model\n",
    "#as we see we can fusion the brand and model into the name of the car\n",
    "dfC1['Name'] = dfC1['brand'] + ' ' + dfC1['model']\n",
    "\n",
    "# Drop the 'brand' and 'model' columns\n",
    "dfC1 = dfC1.drop(['brand', 'model'], axis=1)"
   ]
  },
  {
   "cell_type": "code",
   "execution_count": null,
   "metadata": {},
   "outputs": [],
   "source": [
    "dfC2"
   ]
  },
  {
   "cell_type": "code",
   "execution_count": null,
   "metadata": {},
   "outputs": [],
   "source": [
    "columns_to_drop2 = ['Location', 'Owner_Type', 'Mileage', 'Power', 'Seats', 'New_Price']\n",
    "\n",
    "# Drop the specified columns\n",
    "dfC2 = dfC2.drop(columns=columns_to_drop2, axis=1)\n",
    "dfC2 = dfC2.loc[:, ~dfC2.columns.str.contains('^Unnamed')]"
   ]
  },
  {
   "cell_type": "code",
   "execution_count": null,
   "metadata": {},
   "outputs": [],
   "source": [
    "# changing names\n",
    "dfC1 = dfC1.rename(columns={'model_year': 'Year'})\n",
    "dfC1 = dfC1.rename(columns={'milage': 'Kilometers_Driven'})\n",
    "dfC1 = dfC1.rename(columns={'transmission': 'Transmission'})\n",
    "dfC1 = dfC1.rename(columns={'fuel_type': 'Fuel_Type'})\n",
    "dfC1 = dfC1.rename(columns={'price': 'Price'})\n",
    "dfC1 = dfC1.rename(columns={'engine': 'Engine'})"
   ]
  },
  {
   "cell_type": "code",
   "execution_count": null,
   "metadata": {},
   "outputs": [],
   "source": [
    "columns_to_drop1 = ['ext_col',\t'int_col'\t,'accident'\t,'clean_title']\n",
    "\n",
    "# Drop the specified columns\n",
    "dfC1 = dfC1.drop(columns=columns_to_drop1, axis=1)"
   ]
  },
  {
   "cell_type": "code",
   "execution_count": null,
   "metadata": {},
   "outputs": [],
   "source": [
    "#now our dfs are clear and have the same type of data\n",
    "#let's merge both dfs\n",
    "dfC1"
   ]
  },
  {
   "cell_type": "code",
   "execution_count": null,
   "metadata": {},
   "outputs": [],
   "source": [
    "print(dfC1.dtypes)\n",
    "print(dfC2.dtypes)"
   ]
  },
  {
   "cell_type": "code",
   "execution_count": null,
   "metadata": {},
   "outputs": [],
   "source": [
    "dfC1['Year'] = dfC1['Year'].astype('int64')\n",
    "dfC1['Kilometers_Driven'] = dfC1['Kilometers_Driven'].astype('int64')\n",
    "dfC1['Price'] = dfC1['Price'].astype('int64')"
   ]
  },
  {
   "cell_type": "code",
   "execution_count": null,
   "metadata": {},
   "outputs": [],
   "source": [
    "df3 = pd.concat([dfC1, dfC2], ignore_index=True)\n",
    "\n",
    "# Display the concatenated dataframe\n",
    "print(df3)"
   ]
  },
  {
   "cell_type": "code",
   "execution_count": null,
   "metadata": {},
   "outputs": [],
   "source": [
    "df3.to_csv('output_file.csv', index=False)"
   ]
  },
  {
   "cell_type": "markdown",
   "metadata": {},
   "source": [
    "> # Data Augmentation _ Regression"
   ]
  },
  {
   "cell_type": "markdown",
   "metadata": {},
   "source": [
    ">***Feature Engineering***: Creating new feature from existing ones  \n",
    "\n",
    "Example1: **Car Age**  \n",
    "➡ Creating a new feature representing the age of the car.  \n",
    "Example2: **Usage Ratio**  \n",
    "➡ Presenting how much a car has been driven relative to its age."
   ]
  },
  {
   "cell_type": "code",
   "execution_count": null,
   "metadata": {},
   "outputs": [],
   "source": [
    "current_year = 2023  # Assuming current year\n",
    "df3['Car_Age'] = current_year - df3['Year']"
   ]
  },
  {
   "cell_type": "code",
   "execution_count": null,
   "metadata": {},
   "outputs": [],
   "source": [
    "df3['Usage_Ratio'] = df3['Kilometers_Driven'] / df3['Car_Age']"
   ]
  },
  {
   "cell_type": "markdown",
   "metadata": {},
   "source": [
    ">***Binning***:Converting continuous variables into categorical bins.  \n",
    "Example: **Price Range Binning**  \n",
    "\n",
    "➡ Categorizing cars into age groups or price ranges."
   ]
  },
  {
   "cell_type": "code",
   "execution_count": null,
   "metadata": {},
   "outputs": [],
   "source": [
    "df3['Price_Range'] = pd.cut(df3['Price'], bins=[0, 10000, 20000, 30000, 40000, np.inf], labels=['0-10k', '10-20k', '20-30k', '30-40k', '40k+'])"
   ]
  },
  {
   "cell_type": "markdown",
   "metadata": {},
   "source": [
    ">One-Hot Encoding for Categorical Variables:\n",
    "\n",
    "➡ one-hot encoding to 'Fuel_Type' and 'Transmission'"
   ]
  },
  {
   "cell_type": "code",
   "execution_count": null,
   "metadata": {},
   "outputs": [],
   "source": [
    "df3 = pd.get_dummies(df3, columns=['Fuel_Type', 'Transmission'])"
   ]
  },
  {
   "cell_type": "markdown",
   "metadata": {},
   "source": [
    "> Interaction Features\n",
    "\n",
    "➡ Understanding the relationship between the engine specifications and the car's model year."
   ]
  },
  {
   "cell_type": "code",
   "execution_count": null,
   "metadata": {},
   "outputs": [],
   "source": [
    "df3['Engine_Year_Interaction'] = df3['Engine'].astype(str) + '_' + df3['Year'].astype(str)"
   ]
  },
  {
   "cell_type": "markdown",
   "metadata": {},
   "source": [
    "# Data visualisation _ Regression"
   ]
  },
  {
   "cell_type": "markdown",
   "metadata": {},
   "source": [
    "> **Price Range Distribution** :\n",
    "\n",
    "* we are to visualize the distribution of cars across different price ranges.\n",
    "* Plot Type: Bar Chart\n",
    "\n",
    "\n"
   ]
  },
  {
   "cell_type": "code",
   "execution_count": null,
   "metadata": {},
   "outputs": [],
   "source": [
    "sns.countplot(x='Price_Range', data=df3)\n",
    "plt.title('Distribution of Cars Across Price Ranges')\n",
    "plt.xlabel('Price Range')\n",
    "plt.ylabel('Number of Cars')\n",
    "plt.show()"
   ]
  },
  {
   "cell_type": "markdown",
   "metadata": {},
   "source": [
    "> **Year /VS/ Kilometers Driven** :\n",
    "\n",
    "* this plot will help us explore the relationship between the year of the car and the kilometers driven.\n",
    "* Plot Type: Scatter Plot"
   ]
  },
  {
   "cell_type": "code",
   "execution_count": null,
   "metadata": {},
   "outputs": [],
   "source": [
    "sns.scatterplot(x='Year', y='Kilometers_Driven', data=df3, color='#FF1493')\n",
    "plt.title('Year vs. Kilometers Driven')\n",
    "plt.xlabel('Year')\n",
    "plt.ylabel('Kilometers Driven')\n",
    "plt.show()"
   ]
  },
  {
   "cell_type": "markdown",
   "metadata": {},
   "source": [
    "> **Fuel Type Distribution:** :\n",
    "\n",
    "* we thought about analyzing the distribution of different fuel types in the dataset  \n",
    "* Plot Type: Pie Chart"
   ]
  },
  {
   "cell_type": "markdown",
   "metadata": {},
   "source": [
    "**Important note : we got an error while creating the pie chart that indicates that there is no column named Fuel_Type.  \n",
    "Apparently this happened because we performed one-hot encoding on the 'Fuel_Type' column, which converts it into multiple binary columns, one for each fuel type.**\n",
    "Therefore we need to with these newly created binary columns"
   ]
  },
  {
   "cell_type": "code",
   "execution_count": null,
   "metadata": {},
   "outputs": [],
   "source": [
    "# Collecting all one-hot encoded fuel type columns\n",
    "fuel_type_columns = [col for col in df3.columns if col.startswith('Fuel_Type_')]\n",
    "\n",
    "# Summarizing the counts for each fuel type\n",
    "fuel_type_counts = df3[fuel_type_columns].sum()\n",
    "\n",
    "# Creating labels from column names (removing the 'Fuel_Type_' prefix)\n",
    "labels = [col.replace('Fuel_Type_', '') for col in fuel_type_columns]\n",
    "\n",
    "# Increase the figure size for better readability\n",
    "plt.figure(figsize=(10, 8))\n",
    "\n",
    "# Explode the 1st slice (e.g., 'Gasoline') if it has the largest count, or adjust as needed\n",
    "explode = [0.1 if i == fuel_type_counts.idxmax() else 0 for i in range(len(fuel_type_counts))]\n",
    "\n",
    "# Create a pie chart with adjustments\n",
    "plt.pie(fuel_type_counts, labels=labels, autopct='%1.1f%%', startangle=140, explode=explode)\n",
    "\n",
    "# Place the legend outside of the pie chart\n",
    "plt.legend(title='Fuel Type', loc='center left', bbox_to_anchor=(1, 0.5))\n",
    "\n",
    "# Set the title for the pie chart\n",
    "plt.title('Fuel Type Distribution')\n",
    "\n",
    "# Adjust layout to make room for the legend\n",
    "plt.tight_layout()\n",
    "\n",
    "# Show the pie chart\n",
    "plt.show()"
   ]
  },
  {
   "cell_type": "markdown",
   "metadata": {},
   "source": [
    "# **The Regression model**"
   ]
  },
  {
   "cell_type": "markdown",
   "metadata": {},
   "source": [
    "The goal here is to create a regression model to determine the price of a car"
   ]
  },
  {
   "cell_type": "code",
   "execution_count": null,
   "metadata": {},
   "outputs": [],
   "source": [
    "# Split the data into training set and testing set\n",
    "X_train, X_test, y_train, y_test = model_selection.train_test_split(\n",
    "    X, y, test_size=0.3, random_state=42\n",
    ")\n",
    "\n",
    "# Handle infinite values in the \"Usage_Ratio\" column\n",
    "max_non_infinite_train = X_train['Usage_Ratio'][~np.isinf(X_train['Usage_Ratio'])].max()\n",
    "X_train['Usage_Ratio'].replace(np.inf, max_non_infinite_train, inplace=True)\n",
    "\n",
    "max_non_infinite_test = X_test['Usage_Ratio'][~np.isinf(X_test['Usage_Ratio'])].max()\n",
    "X_test['Usage_Ratio'].replace(np.inf, max_non_infinite_test, inplace=True)\n",
    "\n",
    "# Normalization of our data\n",
    "sca = preprocessing.StandardScaler()\n",
    "X_train = sca.fit_transform(X_train)\n",
    "X_test = sca.transform(X_test)\n",
    "X_test = pd.DataFrame(X_test)"
   ]
  },
  {
   "cell_type": "markdown",
   "metadata": {},
   "source": [
    "**Linear Regression**"
   ]
  },
  {
   "cell_type": "code",
   "execution_count": null,
   "metadata": {},
   "outputs": [],
   "source": [
    "from sklearn.linear_model import LinearRegression\n",
    "lr=LinearRegression()\n",
    "lr.fit(X_train, y_train)"
   ]
  },
  {
   "cell_type": "markdown",
   "metadata": {},
   "source": [
    "**Evaluation**"
   ]
  },
  {
   "cell_type": "code",
   "execution_count": null,
   "metadata": {},
   "outputs": [],
   "source": [
    "# to print the coefficients of our linear model\n",
    "print(lr.coef_)\n",
    "\n",
    "##Evaluate the mean_absolute_error\n",
    "from sklearn import metrics\n",
    "y_test_pred=lr.predict(X_test)\n",
    "metrics.mean_absolute_error(y_test, y_test_pred)"
   ]
  }
 ],
 "metadata": {
  "kernelspec": {
   "display_name": "Python 3",
   "language": "python",
   "name": "python3"
  },
  "language_info": {
   "codemirror_mode": {
    "name": "ipython",
    "version": 3
   },
   "file_extension": ".py",
   "mimetype": "text/x-python",
   "name": "python",
   "nbconvert_exporter": "python",
   "pygments_lexer": "ipython3",
   "version": "3.10.13"
  }
 },
 "nbformat": 4,
 "nbformat_minor": 2
}
