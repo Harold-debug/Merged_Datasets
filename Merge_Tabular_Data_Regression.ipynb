{
 "cells": [
  {
   "cell_type": "markdown",
   "metadata": {},
   "source": [
    "# Use case : Regression\n",
    "dataset 1 : used_cars →\n",
    " https://www.kaggle.com/datasets/taeefnajib/used-car-price-prediction-dataset\n",
    "\n",
    "dataset2 : dataset →"
   ]
  },
  {
   "cell_type": "markdown",
   "metadata": {},
   "source": [
    "\n",
    "\n",
    "> Importing libraries\n",
    "\n"
   ]
  },
  {
   "cell_type": "code",
   "execution_count": 1,
   "metadata": {},
   "outputs": [
    {
     "ename": "ModuleNotFoundError",
     "evalue": "No module named 'pandas'",
     "output_type": "error",
     "traceback": [
      "\u001b[0;31m---------------------------------------------------------------------------\u001b[0m",
      "\u001b[0;31mModuleNotFoundError\u001b[0m                       Traceback (most recent call last)",
      "Cell \u001b[0;32mIn[1], line 1\u001b[0m\n\u001b[0;32m----> 1\u001b[0m \u001b[38;5;28;01mimport\u001b[39;00m \u001b[38;5;21;01mpandas\u001b[39;00m \u001b[38;5;28;01mas\u001b[39;00m \u001b[38;5;21;01mpd\u001b[39;00m\n\u001b[1;32m      2\u001b[0m \u001b[38;5;28;01mimport\u001b[39;00m \u001b[38;5;21;01mseaborn\u001b[39;00m \u001b[38;5;28;01mas\u001b[39;00m \u001b[38;5;21;01msns\u001b[39;00m\n\u001b[1;32m      3\u001b[0m \u001b[38;5;28;01mimport\u001b[39;00m \u001b[38;5;21;01mnumpy\u001b[39;00m \u001b[38;5;28;01mas\u001b[39;00m \u001b[38;5;21;01mnp\u001b[39;00m\n",
      "\u001b[0;31mModuleNotFoundError\u001b[0m: No module named 'pandas'"
     ]
    }
   ],
   "source": [
    "import pandas as pd\n",
    "import seaborn as sns\n",
    "import numpy as np\n",
    "import matplotlib.pyplot as plt\n",
    "\n",
    "sns.set(style=\"whitegrid\")"
   ]
  },
  {
   "cell_type": "markdown",
   "metadata": {},
   "source": [
    "> importing datasets\n",
    "\n"
   ]
  },
  {
   "cell_type": "code",
   "execution_count": null,
   "metadata": {},
   "outputs": [],
   "source": [
    "#import of the dfs\n",
    "df1=pd.read_csv(\"used_cars.csv\")\n",
    "df2=pd.read_csv(\"dataset.csv\")"
   ]
  },
  {
   "cell_type": "markdown",
   "metadata": {},
   "source": [
    "> datasets overview"
   ]
  },
  {
   "cell_type": "code",
   "execution_count": null,
   "metadata": {},
   "outputs": [],
   "source": [
    "#a look into the dfs\n",
    "df1\n",
    "df2"
   ]
  },
  {
   "cell_type": "code",
   "execution_count": null,
   "metadata": {},
   "outputs": [],
   "source": [
    "print(df1.dtypes)\n",
    "print(df2.dtypes)\n",
    "\n",
    "#as we can see the common data from both dataframes has different types so we need to change them"
   ]
  },
  {
   "cell_type": "markdown",
   "metadata": {},
   "source": [
    "> # Regression _ Data Cleaning"
   ]
  },
  {
   "cell_type": "code",
   "execution_count": null,
   "metadata": {},
   "outputs": [],
   "source": [
    "#let's see if we have null values\n",
    "print(df1.isnull().sum())\n",
    "print(df2.isnull().sum())"
   ]
  },
  {
   "cell_type": "code",
   "execution_count": null,
   "metadata": {},
   "outputs": [],
   "source": [
    "dfC1 = df1.dropna()\n",
    "dfC2 = df2.dropna()"
   ]
  },
  {
   "cell_type": "code",
   "execution_count": null,
   "metadata": {},
   "outputs": [],
   "source": [
    "#let's see if we have null values\n",
    "print(dfC1.isnull().sum())\n",
    "print(dfC2.isnull().sum())\n",
    "#as we see we have no more null values"
   ]
  },
  {
   "cell_type": "code",
   "execution_count": null,
   "metadata": {},
   "outputs": [],
   "source": [
    "#milage had the miles symbol so we couldnt convert it to int so we deleted the symbol\n",
    "# Assuming dfC1 is your DataFrame\n",
    "\n",
    "# Update milage column\n",
    "dfC1.loc[:, 'milage'] = dfC1['milage'].str.replace('\\D', '', regex=True)\n",
    "\n",
    "# Update price column\n",
    "dfC1.loc[:, 'price'] = dfC1['price'].str.replace('\\D', '', regex=True)\n",
    "\n",
    "#an error will be shown cauz now i have already deleted in the dataframe"
   ]
  },
  {
   "cell_type": "code",
   "execution_count": null,
   "metadata": {},
   "outputs": [],
   "source": [
    "#now convert the columns\n",
    "\n",
    "# Assuming dfC1 is your DataFrame\n",
    "\n",
    "# Convert 'milage' column to int\n",
    "dfC1.loc[:, 'milage'] = dfC1['milage'].astype(int)\n",
    "\n",
    "# Convert 'price' column to int\n",
    "dfC1.loc[:, 'price'] = dfC1['price'].astype(int)\n",
    "\n",
    "# Convert 'accident' column to boolean\n",
    "dfC1.loc[:, 'accident'] = np.where(dfC1['accident'] != 'None reported', True, False)\n",
    "\n",
    "dfC1"
   ]
  },
  {
   "cell_type": "code",
   "execution_count": null,
   "metadata": {},
   "outputs": [],
   "source": [
    "#same process for the second df\n",
    "dfC2['Mileage'] = dfC2['Mileage'].str.replace('\\D', '', regex=True)\n",
    "dfC2['New_Price'] = dfC2['New_Price'].str.replace('\\D', '', regex=True)"
   ]
  },
  {
   "cell_type": "code",
   "execution_count": null,
   "metadata": {},
   "outputs": [],
   "source": [
    "dfC2[\"Mileage\"] = dfC2[\"Mileage\"].astype(int)\n",
    "dfC2[\"New_Price\"] = dfC2[\"New_Price\"].astype(int)\n",
    "#df2.dtypes\n",
    "#df2.head()"
   ]
  },
  {
   "cell_type": "code",
   "execution_count": null,
   "metadata": {},
   "outputs": [],
   "source": [
    "print(dfC1.dtypes)\n",
    "print(dfC2.dtypes)"
   ]
  },
  {
   "cell_type": "code",
   "execution_count": null,
   "metadata": {},
   "outputs": [],
   "source": [
    "#for the second df we need to multiply the price by 1000\n",
    "dfC2['Price'] = dfC2['Price']*1000"
   ]
  }
 ],
 "metadata": {
  "kernelspec": {
   "display_name": "Python 3",
   "language": "python",
   "name": "python3"
  },
  "language_info": {
   "codemirror_mode": {
    "name": "ipython",
    "version": 3
   },
   "file_extension": ".py",
   "mimetype": "text/x-python",
   "name": "python",
   "nbconvert_exporter": "python",
   "pygments_lexer": "ipython3",
   "version": "3.10.13"
  }
 },
 "nbformat": 4,
 "nbformat_minor": 2
}
